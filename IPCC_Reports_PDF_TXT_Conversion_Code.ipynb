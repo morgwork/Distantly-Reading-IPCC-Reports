{
  "cells": [
    {
      "cell_type": "markdown",
      "metadata": {
        "id": "view-in-github",
        "colab_type": "text"
      },
      "source": [
        "<a href=\"https://colab.research.google.com/github/morgwork/IPCC-Reports-PDF-TXT/blob/main/IPCC_Reports_PDF_TXT_Conversion_Code.ipynb\" target=\"_parent\"><img src=\"https://colab.research.google.com/assets/colab-badge.svg\" alt=\"Open In Colab\"/></a>"
      ]
    },
    {
      "cell_type": "markdown",
      "metadata": {
        "id": "Pt8lmTZSMGzP"
      },
      "source": [
        "\n",
        "### Conversion **ONLY WORKS MAX 250-400 PAGES**\n",
        "In this section I convert the PDF report to a machine-readble string. Most of this code is from an external library, so I put links in as reference. The code's ultimate output is a string for subsequent cleaning and analysis. I downloaded PDF versions of the reports from the IPCC's archive website: https://archive.ipcc.ch/. I do not convert these reports for commerical purposes."
      ]
    },
    {
      "cell_type": "code",
      "execution_count": null,
      "metadata": {
        "id": "wlUlkAPHuxwf"
      },
      "outputs": [],
      "source": [
        "# opens PDF. I suppose this is just to make sure it can be read...realize now that it's separate libraries\n",
        "\n",
        "#install pyDF2\n",
        "! pip install PyPDF2\n",
        "\n",
        "# importing all the required modules\n",
        "import PyPDF2\n",
        "\n",
        "# creating an object \n",
        "file = open('', 'rb') # put file here \n",
        "\n",
        "# creating a pdf reader object\n",
        "fileReader = PyPDF2.PdfFileReader(file)\n",
        "\n",
        "# print the number of pages in pdf file\n",
        "print(fileReader.numPages) # fileReader becomes object"
      ]
    },
    {
      "cell_type": "code",
      "execution_count": null,
      "metadata": {
        "id": "c5btcmjcsyRf"
      },
      "outputs": [],
      "source": [
        "! pip install pdfminer # successful installation of PDFminer\n",
        "import pdfminer"
      ]
    },
    {
      "cell_type": "markdown",
      "metadata": {
        "id": "qHQ6zlWvtGOK"
      },
      "source": [
        "Got the following code from: https://stackoverflow.com/questions/5725278/how-do-i-use-pdfminer-as-a-library/8325135#8325135. "
      ]
    },
    {
      "cell_type": "code",
      "execution_count": null,
      "metadata": {
        "id": "6GST-O5OtXpR"
      },
      "outputs": [],
      "source": [
        "from io import StringIO"
      ]
    },
    {
      "cell_type": "markdown",
      "metadata": {
        "id": "pYOasM0stuFC"
      },
      "source": [
        "Learned about this from: https://stackoverflow.com/questions/28200366/python-3-x-importerror-no-module-named-cstringio."
      ]
    },
    {
      "cell_type": "code",
      "execution_count": null,
      "metadata": {
        "id": "RkLvh9wnVHZ7"
      },
      "outputs": [],
      "source": [
        "from pdfminer.pdfinterp import PDFResourceManager, PDFPageInterpreter\n",
        "from pdfminer.converter import TextConverter\n",
        "from pdfminer.layout import LAParams\n",
        "from pdfminer.pdfpage import PDFPage\n",
        "\n",
        "def convert_pdf_to_txt(path):\n",
        "    rsrcmgr = PDFResourceManager()\n",
        "    retstr = StringIO()\n",
        "    codec = 'utf-8'\n",
        "    laparams = LAParams(char_margin = 20) \n",
        "    device = TextConverter(rsrcmgr, retstr, laparams=laparams)\n",
        "    fp = open('', 'rb') # put file path in here\n",
        "    interpreter = PDFPageInterpreter(rsrcmgr, device)\n",
        "    password = \"\"\n",
        "    maxpages = 0\n",
        "    caching = True\n",
        "    pagenos=set()\n",
        "    for page in PDFPage.get_pages(fp, pagenos, maxpages=maxpages, password=password,caching=caching, check_extractable=True):\n",
        "        interpreter.process_page(page)\n",
        "    fp.close()\n",
        "    device.close()\n",
        "    str = retstr.getvalue()\n",
        "    retstr.close()\n",
        "    return str"
      ]
    },
    {
      "cell_type": "code",
      "execution_count": null,
      "metadata": {
        "cellView": "code",
        "id": "KrvmBs7KuL8m"
      },
      "outputs": [],
      "source": [
        "# here is where we get a string from the PDF, now need to export the string as txt\n",
        "convert_pdf_to_txt(fileReader)\n",
        "\n",
        "=convert_pdf_to_txt(fileReader) # decide on new object name for converted file at the start here\n",
        "\n",
        "# object to make sure it comes out as a string. this works! just takes a little bit of time"
      ]
    },
    {
      "cell_type": "code",
      "execution_count": null,
      "metadata": {
        "id": "qx6_jXYderPw"
      },
      "outputs": [],
      "source": [
        "print() # check conversion"
      ]
    },
    {
      "cell_type": "code",
      "execution_count": null,
      "metadata": {
        "id": "vKvBTlzrhMwN"
      },
      "outputs": [],
      "source": [
        "f = open(\".txt\", \"a\") # create new file here, input as .txt\n",
        "f.write() # input converted string object\n",
        "f.close()\n",
        "\n",
        "#open and read the file after the appending:\n",
        "f = open(\".txt\", \"r\") #make sure new file created here\n",
        "print(f.read())"
      ]
    }
  ],
  "metadata": {
    "colab": {
      "collapsed_sections": [],
      "name": "IPCC Reports PDF TXT Conversion Code ",
      "provenance": [],
      "authorship_tag": "ABX9TyMDWrm4OKH2/9F/Lq99IQ3k",
      "include_colab_link": true
    },
    "kernelspec": {
      "display_name": "Python 3",
      "name": "python3"
    },
    "language_info": {
      "name": "python"
    }
  },
  "nbformat": 4,
  "nbformat_minor": 0
}