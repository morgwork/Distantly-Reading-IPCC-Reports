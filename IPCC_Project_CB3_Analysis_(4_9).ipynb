{
  "nbformat": 4,
  "nbformat_minor": 0,
  "metadata": {
    "colab": {
      "name": "IPCC Project CB3_Analysis (4_9)",
      "provenance": [],
      "collapsed_sections": [],
      "authorship_tag": "ABX9TyOFCcTKj8RZvp5bwGSVmJNG",
      "include_colab_link": true
    },
    "kernelspec": {
      "name": "python3",
      "display_name": "Python 3"
    },
    "language_info": {
      "name": "python"
    }
  },
  "cells": [
    {
      "cell_type": "markdown",
      "metadata": {
        "id": "view-in-github",
        "colab_type": "text"
      },
      "source": [
        "<a href=\"https://colab.research.google.com/github/morgwork/Distantly-Reading-IPCC-Reports/blob/main/IPCC_Project_CB3_Analysis_(4_9).ipynb\" target=\"_parent\"><img src=\"https://colab.research.google.com/assets/colab-badge.svg\" alt=\"Open In Colab\"/></a>"
      ]
    },
    {
      "cell_type": "markdown",
      "source": [
        "# In this codebook, I will analyze the cleaned files with some basic word counts to assess changes in popular terms between reports. I will also highlight significant terms from each of the reports with a few WordCloud visualizations. For each report, I will produce two or three WordClouds that remove disproportionately represented terms and turn off bigrams."
      ],
      "metadata": {
        "id": "INslZsBTqYSh"
      }
    },
    {
      "cell_type": "code",
      "source": [
        ""
      ],
      "metadata": {
        "id": "YGAmipDEqWzW"
      },
      "execution_count": null,
      "outputs": []
    },
    {
      "cell_type": "code",
      "execution_count": null,
      "metadata": {
        "id": "lbZUmyLiVTe9"
      },
      "outputs": [],
      "source": [
        "import numpy as np\n",
        "import pandas as pd\n",
        "import matplotlib.pyplot as plt\n",
        "import seaborn as sns\n",
        "import string\n",
        "from wordcloud import WordCloud"
      ]
    },
    {
      "cell_type": "code",
      "source": [
        "wordcloud = WordCloud(background_color=(246,235,189),max_words=10, width=1600, height=800,random_state=30,stopwords=[]).generate(' '.join(df[''].tolist())) # need to get reports into a dataframe of some kind\n",
        "plt.figure( figsize=(20,10))\n",
        "plt.imshow(wordcloud);"
      ],
      "metadata": {
        "id": "e2Gb7xDE-GlI"
      },
      "execution_count": null,
      "outputs": []
    }
  ]
}