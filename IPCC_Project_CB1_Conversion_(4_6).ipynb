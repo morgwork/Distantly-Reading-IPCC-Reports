{
  "nbformat": 4,
  "nbformat_minor": 0,
  "metadata": {
    "colab": {
      "name": "IPCC Project CB1_Conversion (4_6)",
      "provenance": [],
      "collapsed_sections": [],
      "authorship_tag": "ABX9TyOWZrw6hVi10aS2VBhZN+MY",
      "include_colab_link": true
    },
    "kernelspec": {
      "name": "python3",
      "display_name": "Python 3"
    },
    "language_info": {
      "name": "python"
    }
  },
  "cells": [
    {
      "cell_type": "markdown",
      "metadata": {
        "id": "view-in-github",
        "colab_type": "text"
      },
      "source": [
        "<a href=\"https://colab.research.google.com/github/morgwork/Distantly-Reading-IPCC-Reports/blob/main/IPCC_Project_CB1_Conversion_(4_6).ipynb\" target=\"_parent\"><img src=\"https://colab.research.google.com/assets/colab-badge.svg\" alt=\"Open In Colab\"/></a>"
      ]
    },
    {
      "cell_type": "markdown",
      "source": [
        "# In this codebook, I will convert select PDF files derived from the *IPCC* archive linked [here](https://archive.ipcc.ch/). The archive covers the first five assessment cycles. The [sixth](https://www.ipcc.ch/assessment-report/ar6/) is being drafted, and I may not include it in the corpus (more on this in the project write-up). Regardless of the corpus scale, I will create separate sections for each file and then export them for cleaning in a different codebook. (It looks like I can save Adobe PDFs as .txt files. Should I just go with this?)"
      ],
      "metadata": {
        "id": "NPum-L1dopPo"
      }
    },
    {
      "cell_type": "code",
      "source": [
        "# opens PDF\n",
        "\n",
        "#install pyDF2\n",
        "! pip install PyPDF2\n",
        "\n",
        "# importing all the required modules\n",
        "import PyPDF2\n",
        "\n",
        "# creating an object \n",
        "file = open('', 'rb') # put file here \n",
        "\n",
        "# creating a pdf reader object\n",
        "fileReader = PyPDF2.PdfFileReader(file)\n",
        "\n",
        "# print the number of pages in pdf file\n",
        "print(fileReader.numPages) # fileReader becomes object"
      ],
      "metadata": {
        "colab": {
          "base_uri": "https://localhost:8080/"
        },
        "id": "wlUlkAPHuxwf",
        "outputId": "6b942daf-86ad-423d-82f9-6899e84fef8d"
      },
      "execution_count": null,
      "outputs": [
        {
          "output_type": "stream",
          "name": "stdout",
          "text": [
            "Requirement already satisfied: PyPDF2 in /usr/local/lib/python3.7/dist-packages (1.26.0)\n",
            "4\n"
          ]
        }
      ]
    },
    {
      "cell_type": "code",
      "source": [
        "! pip install pdfminer # successful installation of PDFminer\n",
        "import pdfminer"
      ],
      "metadata": {
        "colab": {
          "base_uri": "https://localhost:8080/"
        },
        "id": "c5btcmjcsyRf",
        "outputId": "810d942f-887a-4ea0-ee3a-56f79d81733c"
      },
      "execution_count": null,
      "outputs": [
        {
          "output_type": "stream",
          "name": "stdout",
          "text": [
            "Collecting pdfminer\n",
            "  Downloading pdfminer-20191125.tar.gz (4.2 MB)\n",
            "\u001b[K     |████████████████████████████████| 4.2 MB 8.3 MB/s \n",
            "\u001b[?25hCollecting pycryptodome\n",
            "  Downloading pycryptodome-3.14.1-cp35-abi3-manylinux2010_x86_64.whl (2.0 MB)\n",
            "\u001b[K     |████████████████████████████████| 2.0 MB 41.4 MB/s \n",
            "\u001b[?25hBuilding wheels for collected packages: pdfminer\n",
            "  Building wheel for pdfminer (setup.py) ... \u001b[?25l\u001b[?25hdone\n",
            "  Created wheel for pdfminer: filename=pdfminer-20191125-py3-none-any.whl size=6140092 sha256=ad782e7e4565b4e4303f8b92d4d37bdb36abe5a575eaf0b90a707ed53b52500c\n",
            "  Stored in directory: /root/.cache/pip/wheels/e3/5e/f4/d210b46e9e4a28229ea070ed5b3efa92c3c29d1a7918dd4b97\n",
            "Successfully built pdfminer\n",
            "Installing collected packages: pycryptodome, pdfminer\n",
            "Successfully installed pdfminer-20191125 pycryptodome-3.14.1\n"
          ]
        }
      ]
    },
    {
      "cell_type": "markdown",
      "source": [
        "Got the following code from: https://stackoverflow.com/questions/5725278/how-do-i-use-pdfminer-as-a-library/8325135#8325135. "
      ],
      "metadata": {
        "id": "qHQ6zlWvtGOK"
      }
    },
    {
      "cell_type": "code",
      "source": [
        "from io import StringIO"
      ],
      "metadata": {
        "id": "6GST-O5OtXpR"
      },
      "execution_count": null,
      "outputs": []
    },
    {
      "cell_type": "markdown",
      "source": [
        "Learned about this from: https://stackoverflow.com/questions/28200366/python-3-x-importerror-no-module-named-cstringio."
      ],
      "metadata": {
        "id": "pYOasM0stuFC"
      }
    },
    {
      "cell_type": "code",
      "execution_count": null,
      "metadata": {
        "id": "RkLvh9wnVHZ7"
      },
      "outputs": [],
      "source": [
        "from pdfminer.pdfinterp import PDFResourceManager, PDFPageInterpreter\n",
        "from pdfminer.converter import TextConverter\n",
        "from pdfminer.layout import LAParams\n",
        "from pdfminer.pdfpage import PDFPage\n",
        "\n",
        "def convert_pdf_to_txt(path):\n",
        "    rsrcmgr = PDFResourceManager()\n",
        "    retstr = StringIO()\n",
        "    codec = 'utf-8'\n",
        "    laparams = LAParams(char_margin = 20) \n",
        "    device = TextConverter(rsrcmgr, retstr, laparams=laparams)\n",
        "    fp = open('', 'rb') # have to put file path in here\n",
        "    interpreter = PDFPageInterpreter(rsrcmgr, device)\n",
        "    password = \"\"\n",
        "    maxpages = 0\n",
        "    caching = True\n",
        "    pagenos=set()\n",
        "    for page in PDFPage.get_pages(fp, pagenos, maxpages=maxpages, password=password,caching=caching, check_extractable=True):\n",
        "        interpreter.process_page(page)\n",
        "    fp.close()\n",
        "    device.close()\n",
        "    str = retstr.getvalue()\n",
        "    retstr.close()\n",
        "    return str"
      ]
    },
    {
      "cell_type": "code",
      "source": [
        "# here is where we get a string from the PDF, now need to export the string as txt\n",
        "convert_pdf_to_txt(fileReader)\n",
        "=convert_pdf_to_txt(fileReader) # need new object at the start here\n",
        "print() # object to make sure it comes out as a string"
      ],
      "metadata": {
        "colab": {
          "base_uri": "https://localhost:8080/",
          "height": 339
        },
        "id": "KrvmBs7KuL8m",
        "outputId": "471336ab-8931-4573-dcd3-ab32fc799961",
        "cellView": "code"
      },
      "execution_count": null,
      "outputs": [
        {
          "output_type": "error",
          "ename": "FileNotFoundError",
          "evalue": "ignored",
          "traceback": [
            "\u001b[0;31m---------------------------------------------------------------------------\u001b[0m",
            "\u001b[0;31mFileNotFoundError\u001b[0m                         Traceback (most recent call last)",
            "\u001b[0;32m<ipython-input-52-4d3af47e8492>\u001b[0m in \u001b[0;36m<module>\u001b[0;34m()\u001b[0m\n\u001b[1;32m      1\u001b[0m \u001b[0;31m# here is where we get a string from the PDF, now need to export the string as txt\u001b[0m\u001b[0;34m\u001b[0m\u001b[0;34m\u001b[0m\u001b[0;34m\u001b[0m\u001b[0m\n\u001b[0;32m----> 2\u001b[0;31m \u001b[0mconvert_pdf_to_txt\u001b[0m\u001b[0;34m(\u001b[0m\u001b[0mfileReader\u001b[0m\u001b[0;34m)\u001b[0m\u001b[0;34m\u001b[0m\u001b[0;34m\u001b[0m\u001b[0m\n\u001b[0m\u001b[1;32m      3\u001b[0m \u001b[0mccpdf\u001b[0m\u001b[0;34m=\u001b[0m\u001b[0mconvert_pdf_to_txt\u001b[0m\u001b[0;34m(\u001b[0m\u001b[0mfileReader\u001b[0m\u001b[0;34m)\u001b[0m \u001b[0;31m# need new object here\u001b[0m\u001b[0;34m\u001b[0m\u001b[0;34m\u001b[0m\u001b[0m\n\u001b[1;32m      4\u001b[0m \u001b[0mprint\u001b[0m\u001b[0;34m(\u001b[0m\u001b[0mccpdf\u001b[0m\u001b[0;34m)\u001b[0m\u001b[0;34m\u001b[0m\u001b[0;34m\u001b[0m\u001b[0m\n",
            "\u001b[0;32m<ipython-input-29-b4a0499fee1e>\u001b[0m in \u001b[0;36mconvert_pdf_to_txt\u001b[0;34m(path)\u001b[0m\n\u001b[1;32m     10\u001b[0m     \u001b[0mlaparams\u001b[0m \u001b[0;34m=\u001b[0m \u001b[0mLAParams\u001b[0m\u001b[0;34m(\u001b[0m\u001b[0mchar_margin\u001b[0m \u001b[0;34m=\u001b[0m \u001b[0;36m20\u001b[0m\u001b[0;34m)\u001b[0m\u001b[0;34m\u001b[0m\u001b[0;34m\u001b[0m\u001b[0m\n\u001b[1;32m     11\u001b[0m     \u001b[0mdevice\u001b[0m \u001b[0;34m=\u001b[0m \u001b[0mTextConverter\u001b[0m\u001b[0;34m(\u001b[0m\u001b[0mrsrcmgr\u001b[0m\u001b[0;34m,\u001b[0m \u001b[0mretstr\u001b[0m\u001b[0;34m,\u001b[0m \u001b[0mlaparams\u001b[0m\u001b[0;34m=\u001b[0m\u001b[0mlaparams\u001b[0m\u001b[0;34m)\u001b[0m\u001b[0;34m\u001b[0m\u001b[0;34m\u001b[0m\u001b[0m\n\u001b[0;32m---> 12\u001b[0;31m     \u001b[0mfp\u001b[0m \u001b[0;34m=\u001b[0m \u001b[0mopen\u001b[0m\u001b[0;34m(\u001b[0m\u001b[0;34m'/content/Keywords_for_Environmental_Studies_----_(11._Climate_Change).pdf'\u001b[0m\u001b[0;34m,\u001b[0m \u001b[0;34m'rb'\u001b[0m\u001b[0;34m)\u001b[0m\u001b[0;34m\u001b[0m\u001b[0;34m\u001b[0m\u001b[0m\n\u001b[0m\u001b[1;32m     13\u001b[0m     \u001b[0minterpreter\u001b[0m \u001b[0;34m=\u001b[0m \u001b[0mPDFPageInterpreter\u001b[0m\u001b[0;34m(\u001b[0m\u001b[0mrsrcmgr\u001b[0m\u001b[0;34m,\u001b[0m \u001b[0mdevice\u001b[0m\u001b[0;34m)\u001b[0m\u001b[0;34m\u001b[0m\u001b[0;34m\u001b[0m\u001b[0m\n\u001b[1;32m     14\u001b[0m     \u001b[0mpassword\u001b[0m \u001b[0;34m=\u001b[0m \u001b[0;34m\"\"\u001b[0m\u001b[0;34m\u001b[0m\u001b[0;34m\u001b[0m\u001b[0m\n",
            "\u001b[0;31mFileNotFoundError\u001b[0m: [Errno 2] No such file or directory: '/content/Keywords_for_Environmental_Studies_----_(11._Climate_Change).pdf'"
          ]
        }
      ]
    },
    {
      "cell_type": "code",
      "source": [
        ".split() # this will make the string into a list\n",
        "print() # string that should become list"
      ],
      "metadata": {
        "colab": {
          "base_uri": "https://localhost:8080/"
        },
        "id": "Py3LQW5OA78i",
        "outputId": "e9d98e9c-b8ad-4912-ccfa-f8173c302cf4"
      },
      "execution_count": null,
      "outputs": [
        {
          "output_type": "stream",
          "name": "stdout",
          "text": [
            "yes\n"
          ]
        }
      ]
    },
    {
      "cell_type": "markdown",
      "source": [
        "Got what follows from this link: https://itsmycode.com/python-write-text-file/. Not sure how useful it will be? Somewhat confused how there is not code to export strings as .txt files.\n"
      ],
      "metadata": {
        "id": "SVy81l9uCm-J"
      }
    },
    {
      "cell_type": "code",
      "source": [
        "# this will use writelines to convert the list into a text file\n",
        "with open(\"\", \"w\") as file: # put name of file before \"w\"\n",
        "    content = [\"\" ] # will this work with an object converted into a list? or does it need to be a list...\n",
        "    file.writelines(content)\n",
        "    file.close()\n",
        "\n",
        "# Program to read the entire file (absolute path) using read() function\n",
        "with open(\"\", \"r\") as file: # put file destination as file path before \"r\"\n",
        "    content = file.read()\n",
        "    print(content)\n",
        "    file.close()"
      ],
      "metadata": {
        "id": "fyzwV1AHCKyO"
      },
      "execution_count": null,
      "outputs": []
    }
  ]
}